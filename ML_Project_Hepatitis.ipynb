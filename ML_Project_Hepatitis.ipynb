{
  "nbformat": 4,
  "nbformat_minor": 0,
  "metadata": {
    "colab": {
      "name": "ML Project Hepatitis.ipynb",
      "provenance": [],
      "mount_file_id": "1d7e8LoBFEIBloOAMUkqhfOiILbtxoPji",
      "authorship_tag": "ABX9TyOuhxmUXARRumwXzVNtL6UX",
      "include_colab_link": true
    },
    "kernelspec": {
      "name": "python3",
      "display_name": "Python 3"
    },
    "language_info": {
      "name": "python"
    },
    "accelerator": "GPU"
  },
  "cells": [
    {
      "cell_type": "markdown",
      "metadata": {
        "id": "view-in-github",
        "colab_type": "text"
      },
      "source": [
        "<a href=\"https://colab.research.google.com/github/yasaswinik12/HepatitisC-prediction/blob/main/ML_Project_Hepatitis.ipynb\" target=\"_parent\"><img src=\"https://colab.research.google.com/assets/colab-badge.svg\" alt=\"Open In Colab\"/></a>"
      ]
    },
    {
      "cell_type": "markdown",
      "metadata": {
        "id": "5_KfBG1lDvd2"
      },
      "source": [
        "# **I. Importing Essential Libraries**\n"
      ]
    },
    {
      "cell_type": "code",
      "metadata": {
        "id": "UgJtQItizxdi"
      },
      "source": [
        "import pandas as pd\n",
        "import numpy as np\n",
        "import matplotlib.pyplot as plt\n",
        "import seaborn as sns\n",
        "%matplotlib inline"
      ],
      "execution_count": 1,
      "outputs": []
    },
    {
      "cell_type": "markdown",
      "metadata": {
        "id": "Leh0Ai7JETl5"
      },
      "source": [
        "# **II. Reading the CSV file (dataset)**\n",
        "\n"
      ]
    },
    {
      "cell_type": "code",
      "metadata": {
        "colab": {
          "base_uri": "https://localhost:8080/",
          "height": 206
        },
        "id": "rfVATp9Xz4dP",
        "outputId": "bc432adf-0e24-4684-ba15-40392c22698a"
      },
      "source": [
        "df = pd.read_csv('/content/drive/MyDrive/HepatitisCdata.csv')\n",
        "df.head()"
      ],
      "execution_count": 2,
      "outputs": [
        {
          "output_type": "execute_result",
          "data": {
            "text/html": [
              "<div>\n",
              "<style scoped>\n",
              "    .dataframe tbody tr th:only-of-type {\n",
              "        vertical-align: middle;\n",
              "    }\n",
              "\n",
              "    .dataframe tbody tr th {\n",
              "        vertical-align: top;\n",
              "    }\n",
              "\n",
              "    .dataframe thead th {\n",
              "        text-align: right;\n",
              "    }\n",
              "</style>\n",
              "<table border=\"1\" class=\"dataframe\">\n",
              "  <thead>\n",
              "    <tr style=\"text-align: right;\">\n",
              "      <th></th>\n",
              "      <th>Unnamed: 0</th>\n",
              "      <th>Category</th>\n",
              "      <th>Age</th>\n",
              "      <th>Sex</th>\n",
              "      <th>ALB</th>\n",
              "      <th>ALP</th>\n",
              "      <th>ALT</th>\n",
              "      <th>AST</th>\n",
              "      <th>BIL</th>\n",
              "      <th>CHE</th>\n",
              "      <th>CHOL</th>\n",
              "      <th>CREA</th>\n",
              "      <th>GGT</th>\n",
              "      <th>PROT</th>\n",
              "    </tr>\n",
              "  </thead>\n",
              "  <tbody>\n",
              "    <tr>\n",
              "      <th>0</th>\n",
              "      <td>1</td>\n",
              "      <td>0=Blood Donor</td>\n",
              "      <td>32</td>\n",
              "      <td>m</td>\n",
              "      <td>38.5</td>\n",
              "      <td>52.5</td>\n",
              "      <td>7.7</td>\n",
              "      <td>22.1</td>\n",
              "      <td>7.5</td>\n",
              "      <td>6.93</td>\n",
              "      <td>3.23</td>\n",
              "      <td>106.0</td>\n",
              "      <td>12.1</td>\n",
              "      <td>69.0</td>\n",
              "    </tr>\n",
              "    <tr>\n",
              "      <th>1</th>\n",
              "      <td>2</td>\n",
              "      <td>0=Blood Donor</td>\n",
              "      <td>32</td>\n",
              "      <td>m</td>\n",
              "      <td>38.5</td>\n",
              "      <td>70.3</td>\n",
              "      <td>18.0</td>\n",
              "      <td>24.7</td>\n",
              "      <td>3.9</td>\n",
              "      <td>11.17</td>\n",
              "      <td>4.80</td>\n",
              "      <td>74.0</td>\n",
              "      <td>15.6</td>\n",
              "      <td>76.5</td>\n",
              "    </tr>\n",
              "    <tr>\n",
              "      <th>2</th>\n",
              "      <td>3</td>\n",
              "      <td>0=Blood Donor</td>\n",
              "      <td>32</td>\n",
              "      <td>m</td>\n",
              "      <td>46.9</td>\n",
              "      <td>74.7</td>\n",
              "      <td>36.2</td>\n",
              "      <td>52.6</td>\n",
              "      <td>6.1</td>\n",
              "      <td>8.84</td>\n",
              "      <td>5.20</td>\n",
              "      <td>86.0</td>\n",
              "      <td>33.2</td>\n",
              "      <td>79.3</td>\n",
              "    </tr>\n",
              "    <tr>\n",
              "      <th>3</th>\n",
              "      <td>4</td>\n",
              "      <td>0=Blood Donor</td>\n",
              "      <td>32</td>\n",
              "      <td>m</td>\n",
              "      <td>43.2</td>\n",
              "      <td>52.0</td>\n",
              "      <td>30.6</td>\n",
              "      <td>22.6</td>\n",
              "      <td>18.9</td>\n",
              "      <td>7.33</td>\n",
              "      <td>4.74</td>\n",
              "      <td>80.0</td>\n",
              "      <td>33.8</td>\n",
              "      <td>75.7</td>\n",
              "    </tr>\n",
              "    <tr>\n",
              "      <th>4</th>\n",
              "      <td>5</td>\n",
              "      <td>0=Blood Donor</td>\n",
              "      <td>32</td>\n",
              "      <td>m</td>\n",
              "      <td>39.2</td>\n",
              "      <td>74.1</td>\n",
              "      <td>32.6</td>\n",
              "      <td>24.8</td>\n",
              "      <td>9.6</td>\n",
              "      <td>9.15</td>\n",
              "      <td>4.32</td>\n",
              "      <td>76.0</td>\n",
              "      <td>29.9</td>\n",
              "      <td>68.7</td>\n",
              "    </tr>\n",
              "  </tbody>\n",
              "</table>\n",
              "</div>"
            ],
            "text/plain": [
              "   Unnamed: 0       Category  Age Sex   ALB  ...    CHE  CHOL   CREA   GGT  PROT\n",
              "0           1  0=Blood Donor   32   m  38.5  ...   6.93  3.23  106.0  12.1  69.0\n",
              "1           2  0=Blood Donor   32   m  38.5  ...  11.17  4.80   74.0  15.6  76.5\n",
              "2           3  0=Blood Donor   32   m  46.9  ...   8.84  5.20   86.0  33.2  79.3\n",
              "3           4  0=Blood Donor   32   m  43.2  ...   7.33  4.74   80.0  33.8  75.7\n",
              "4           5  0=Blood Donor   32   m  39.2  ...   9.15  4.32   76.0  29.9  68.7\n",
              "\n",
              "[5 rows x 14 columns]"
            ]
          },
          "metadata": {},
          "execution_count": 2
        }
      ]
    },
    {
      "cell_type": "code",
      "metadata": {
        "colab": {
          "base_uri": "https://localhost:8080/"
        },
        "id": "14DlqYE60c8n",
        "outputId": "4f5b0f69-58a3-4574-f409-20fb70f4fa8d"
      },
      "source": [
        "#removing Unnamed: 0 column\n",
        "df.drop(\"Unnamed: 0\", axis=1, inplace=True)\n",
        "\n",
        "#Shape of the dataset\n",
        "df.shape"
      ],
      "execution_count": 3,
      "outputs": [
        {
          "output_type": "execute_result",
          "data": {
            "text/plain": [
              "(615, 13)"
            ]
          },
          "metadata": {},
          "execution_count": 3
        }
      ]
    },
    {
      "cell_type": "code",
      "metadata": {
        "colab": {
          "base_uri": "https://localhost:8080/"
        },
        "id": "02UT0tce0g4p",
        "outputId": "293be1cd-8585-401e-c5cc-d196e2b185cf"
      },
      "source": [
        "df.info()"
      ],
      "execution_count": 4,
      "outputs": [
        {
          "output_type": "stream",
          "name": "stdout",
          "text": [
            "<class 'pandas.core.frame.DataFrame'>\n",
            "RangeIndex: 615 entries, 0 to 614\n",
            "Data columns (total 13 columns):\n",
            " #   Column    Non-Null Count  Dtype  \n",
            "---  ------    --------------  -----  \n",
            " 0   Category  615 non-null    object \n",
            " 1   Age       615 non-null    int64  \n",
            " 2   Sex       615 non-null    object \n",
            " 3   ALB       614 non-null    float64\n",
            " 4   ALP       597 non-null    float64\n",
            " 5   ALT       614 non-null    float64\n",
            " 6   AST       615 non-null    float64\n",
            " 7   BIL       615 non-null    float64\n",
            " 8   CHE       615 non-null    float64\n",
            " 9   CHOL      605 non-null    float64\n",
            " 10  CREA      615 non-null    float64\n",
            " 11  GGT       615 non-null    float64\n",
            " 12  PROT      614 non-null    float64\n",
            "dtypes: float64(10), int64(1), object(2)\n",
            "memory usage: 62.6+ KB\n"
          ]
        }
      ]
    },
    {
      "cell_type": "code",
      "metadata": {
        "colab": {
          "base_uri": "https://localhost:8080/"
        },
        "id": "eif3YK4x0jdz",
        "outputId": "21a467d9-4f42-4045-a9fa-77d6a1c7560c"
      },
      "source": [
        "df.Category.unique()"
      ],
      "execution_count": 5,
      "outputs": [
        {
          "output_type": "execute_result",
          "data": {
            "text/plain": [
              "array(['0=Blood Donor', '0s=suspect Blood Donor', '1=Hepatitis',\n",
              "       '2=Fibrosis', '3=Cirrhosis'], dtype=object)"
            ]
          },
          "metadata": {},
          "execution_count": 5
        }
      ]
    },
    {
      "cell_type": "code",
      "metadata": {
        "colab": {
          "base_uri": "https://localhost:8080/"
        },
        "id": "n90jVUYi0mFc",
        "outputId": "6f624f84-7b20-42f6-9b93-cc820e467614"
      },
      "source": [
        "#finding missing values\n",
        "df.isna().sum()"
      ],
      "execution_count": 6,
      "outputs": [
        {
          "output_type": "execute_result",
          "data": {
            "text/plain": [
              "Category     0\n",
              "Age          0\n",
              "Sex          0\n",
              "ALB          1\n",
              "ALP         18\n",
              "ALT          1\n",
              "AST          0\n",
              "BIL          0\n",
              "CHE          0\n",
              "CHOL        10\n",
              "CREA         0\n",
              "GGT          0\n",
              "PROT         1\n",
              "dtype: int64"
            ]
          },
          "metadata": {},
          "execution_count": 6
        }
      ]
    },
    {
      "cell_type": "code",
      "metadata": {
        "colab": {
          "base_uri": "https://localhost:8080/",
          "height": 300
        },
        "id": "MozNE0Ph0vCj",
        "outputId": "8de282e9-a716-45c7-93a0-65f8260a3f42"
      },
      "source": [
        "#filling the missing values with mean of the columns)\n",
        "df.fillna(df.mean(),inplace=True)\n",
        "\n",
        "\n",
        "#Information about the columns\n",
        "df.describe()"
      ],
      "execution_count": 7,
      "outputs": [
        {
          "output_type": "execute_result",
          "data": {
            "text/html": [
              "<div>\n",
              "<style scoped>\n",
              "    .dataframe tbody tr th:only-of-type {\n",
              "        vertical-align: middle;\n",
              "    }\n",
              "\n",
              "    .dataframe tbody tr th {\n",
              "        vertical-align: top;\n",
              "    }\n",
              "\n",
              "    .dataframe thead th {\n",
              "        text-align: right;\n",
              "    }\n",
              "</style>\n",
              "<table border=\"1\" class=\"dataframe\">\n",
              "  <thead>\n",
              "    <tr style=\"text-align: right;\">\n",
              "      <th></th>\n",
              "      <th>Age</th>\n",
              "      <th>ALB</th>\n",
              "      <th>ALP</th>\n",
              "      <th>ALT</th>\n",
              "      <th>AST</th>\n",
              "      <th>BIL</th>\n",
              "      <th>CHE</th>\n",
              "      <th>CHOL</th>\n",
              "      <th>CREA</th>\n",
              "      <th>GGT</th>\n",
              "      <th>PROT</th>\n",
              "    </tr>\n",
              "  </thead>\n",
              "  <tbody>\n",
              "    <tr>\n",
              "      <th>count</th>\n",
              "      <td>615.000000</td>\n",
              "      <td>615.000000</td>\n",
              "      <td>615.000000</td>\n",
              "      <td>615.000000</td>\n",
              "      <td>615.000000</td>\n",
              "      <td>615.000000</td>\n",
              "      <td>615.000000</td>\n",
              "      <td>615.000000</td>\n",
              "      <td>615.000000</td>\n",
              "      <td>615.000000</td>\n",
              "      <td>615.000000</td>\n",
              "    </tr>\n",
              "    <tr>\n",
              "      <th>mean</th>\n",
              "      <td>47.408130</td>\n",
              "      <td>41.620195</td>\n",
              "      <td>68.283920</td>\n",
              "      <td>28.450814</td>\n",
              "      <td>34.786341</td>\n",
              "      <td>11.396748</td>\n",
              "      <td>8.196634</td>\n",
              "      <td>5.368099</td>\n",
              "      <td>81.287805</td>\n",
              "      <td>39.533171</td>\n",
              "      <td>72.044137</td>\n",
              "    </tr>\n",
              "    <tr>\n",
              "      <th>std</th>\n",
              "      <td>10.055105</td>\n",
              "      <td>5.775920</td>\n",
              "      <td>25.643955</td>\n",
              "      <td>25.448940</td>\n",
              "      <td>33.090690</td>\n",
              "      <td>19.673150</td>\n",
              "      <td>2.205657</td>\n",
              "      <td>1.123466</td>\n",
              "      <td>49.756166</td>\n",
              "      <td>54.661071</td>\n",
              "      <td>5.398234</td>\n",
              "    </tr>\n",
              "    <tr>\n",
              "      <th>min</th>\n",
              "      <td>19.000000</td>\n",
              "      <td>14.900000</td>\n",
              "      <td>11.300000</td>\n",
              "      <td>0.900000</td>\n",
              "      <td>10.600000</td>\n",
              "      <td>0.800000</td>\n",
              "      <td>1.420000</td>\n",
              "      <td>1.430000</td>\n",
              "      <td>8.000000</td>\n",
              "      <td>4.500000</td>\n",
              "      <td>44.800000</td>\n",
              "    </tr>\n",
              "    <tr>\n",
              "      <th>25%</th>\n",
              "      <td>39.000000</td>\n",
              "      <td>38.800000</td>\n",
              "      <td>52.950000</td>\n",
              "      <td>16.400000</td>\n",
              "      <td>21.600000</td>\n",
              "      <td>5.300000</td>\n",
              "      <td>6.935000</td>\n",
              "      <td>4.620000</td>\n",
              "      <td>67.000000</td>\n",
              "      <td>15.700000</td>\n",
              "      <td>69.300000</td>\n",
              "    </tr>\n",
              "    <tr>\n",
              "      <th>50%</th>\n",
              "      <td>47.000000</td>\n",
              "      <td>41.900000</td>\n",
              "      <td>66.700000</td>\n",
              "      <td>23.000000</td>\n",
              "      <td>25.900000</td>\n",
              "      <td>7.300000</td>\n",
              "      <td>8.260000</td>\n",
              "      <td>5.310000</td>\n",
              "      <td>77.000000</td>\n",
              "      <td>23.300000</td>\n",
              "      <td>72.200000</td>\n",
              "    </tr>\n",
              "    <tr>\n",
              "      <th>75%</th>\n",
              "      <td>54.000000</td>\n",
              "      <td>45.200000</td>\n",
              "      <td>79.300000</td>\n",
              "      <td>33.050000</td>\n",
              "      <td>32.900000</td>\n",
              "      <td>11.200000</td>\n",
              "      <td>9.590000</td>\n",
              "      <td>6.055000</td>\n",
              "      <td>88.000000</td>\n",
              "      <td>40.200000</td>\n",
              "      <td>75.400000</td>\n",
              "    </tr>\n",
              "    <tr>\n",
              "      <th>max</th>\n",
              "      <td>77.000000</td>\n",
              "      <td>82.200000</td>\n",
              "      <td>416.600000</td>\n",
              "      <td>325.300000</td>\n",
              "      <td>324.000000</td>\n",
              "      <td>254.000000</td>\n",
              "      <td>16.410000</td>\n",
              "      <td>9.670000</td>\n",
              "      <td>1079.100000</td>\n",
              "      <td>650.900000</td>\n",
              "      <td>90.000000</td>\n",
              "    </tr>\n",
              "  </tbody>\n",
              "</table>\n",
              "</div>"
            ],
            "text/plain": [
              "              Age         ALB         ALP  ...         CREA         GGT        PROT\n",
              "count  615.000000  615.000000  615.000000  ...   615.000000  615.000000  615.000000\n",
              "mean    47.408130   41.620195   68.283920  ...    81.287805   39.533171   72.044137\n",
              "std     10.055105    5.775920   25.643955  ...    49.756166   54.661071    5.398234\n",
              "min     19.000000   14.900000   11.300000  ...     8.000000    4.500000   44.800000\n",
              "25%     39.000000   38.800000   52.950000  ...    67.000000   15.700000   69.300000\n",
              "50%     47.000000   41.900000   66.700000  ...    77.000000   23.300000   72.200000\n",
              "75%     54.000000   45.200000   79.300000  ...    88.000000   40.200000   75.400000\n",
              "max     77.000000   82.200000  416.600000  ...  1079.100000  650.900000   90.000000\n",
              "\n",
              "[8 rows x 11 columns]"
            ]
          },
          "metadata": {},
          "execution_count": 7
        }
      ]
    },
    {
      "cell_type": "code",
      "metadata": {
        "colab": {
          "base_uri": "https://localhost:8080/",
          "height": 458
        },
        "id": "hxDb_lUZ0yHg",
        "outputId": "609401b5-946f-470f-c1c0-87f086902b28"
      },
      "source": [
        "#Understanding column Age\n",
        "plt.figure(figsize=(7,7))\n",
        "plt.title('Age Histogram')\n",
        "sns.histplot(df['Age'])\n",
        "\n",
        "plt.show()"
      ],
      "execution_count": 8,
      "outputs": [
        {
          "output_type": "display_data",
          "data": {
            "image/png": "[encoded data removed]",
            "text/plain": [
              "<Figure size 504x504 with 1 Axes>"
            ]
          },
          "metadata": {
            "needs_background": "light"
          }
        }
      ]
    },
    {
      "cell_type": "code",
      "metadata": {
        "colab": {
          "base_uri": "https://localhost:8080/",
          "height": 531
        },
        "id": "KQIl17kE01nQ",
        "outputId": "335dc81b-8f03-4266-df63-566b9dc058e3"
      },
      "source": [
        "#understanding the target column\n",
        "plt.figure(figsize=(7,7))\n",
        "df['Category'].value_counts().plot(kind='pie',autopct='%.2f')\n",
        "plt.title('Category Pie Chart')\n",
        "plt.show()\n",
        "\n",
        "df['Category'].value_counts()"
      ],
      "execution_count": 9,
      "outputs": [
        {
          "output_type": "display_data",
          "data": {
            "image/png": "[encoded data removed]",
            "text/plain": [
              "<Figure size 504x504 with 1 Axes>"
            ]
          },
          "metadata": {}
        },
        {
          "output_type": "execute_result",
          "data": {
            "text/plain": [
              "0=Blood Donor             533\n",
              "3=Cirrhosis                30\n",
              "1=Hepatitis                24\n",
              "2=Fibrosis                 21\n",
              "0s=suspect Blood Donor      7\n",
              "Name: Category, dtype: int64"
            ]
          },
          "metadata": {},
          "execution_count": 9
        }
      ]
    },
    {
      "cell_type": "code",
      "metadata": {
        "id": "df2nvM7B057p"
      },
      "source": [
        "#replacing category values into numerics\n",
        "replace_dict = dict()\n",
        "num_dict = dict()\n",
        "i=0\n",
        "for val in df['Category'].unique():\n",
        "    replace_dict[val] = i\n",
        "    num_dict[str(i)] = val\n",
        "    i += 1"
      ],
      "execution_count": 10,
      "outputs": []
    },
    {
      "cell_type": "code",
      "metadata": {
        "colab": {
          "base_uri": "https://localhost:8080/"
        },
        "id": "PriMkTzp09RB",
        "outputId": "45d73a48-dc0d-47bf-dde4-b2cff8c84119"
      },
      "source": [
        "df['Category'].replace(replace_dict,inplace=True)\n",
        "df.Category.unique()"
      ],
      "execution_count": 11,
      "outputs": [
        {
          "output_type": "execute_result",
          "data": {
            "text/plain": [
              "array([0, 1, 2, 3, 4])"
            ]
          },
          "metadata": {},
          "execution_count": 11
        }
      ]
    },
    {
      "cell_type": "code",
      "metadata": {
        "colab": {
          "base_uri": "https://localhost:8080/"
        },
        "id": "4Gq3JSWA0_UO",
        "outputId": "f86e62d5-da3e-4227-b700-7e78ceec9a8f"
      },
      "source": [
        "df['Sex'].value_counts()"
      ],
      "execution_count": 12,
      "outputs": [
        {
          "output_type": "execute_result",
          "data": {
            "text/plain": [
              "m    377\n",
              "f    238\n",
              "Name: Sex, dtype: int64"
            ]
          },
          "metadata": {},
          "execution_count": 12
        }
      ]
    },
    {
      "cell_type": "code",
      "metadata": {
        "colab": {
          "base_uri": "https://localhost:8080/"
        },
        "id": "Uv_kLZ6f1Bty",
        "outputId": "6f27b8da-5b49-47a8-dae1-4de3a056a13c"
      },
      "source": [
        "df['Sex'].replace(['m','f'],[1,0],inplace=True)\n",
        "df['Sex'].value_counts()"
      ],
      "execution_count": 13,
      "outputs": [
        {
          "output_type": "execute_result",
          "data": {
            "text/plain": [
              "1    377\n",
              "0    238\n",
              "Name: Sex, dtype: int64"
            ]
          },
          "metadata": {},
          "execution_count": 13
        }
      ]
    },
    {
      "cell_type": "code",
      "metadata": {
        "id": "8JwigX-P1Dqp"
      },
      "source": [
        "x = df.drop('Category',axis=1)\n",
        "y = df['Category']"
      ],
      "execution_count": 14,
      "outputs": []
    },
    {
      "cell_type": "code",
      "metadata": {
        "colab": {
          "base_uri": "https://localhost:8080/"
        },
        "id": "-GRLVS-F1NBd",
        "outputId": "cc670217-3d0b-4fe8-e296-e1ca372f0fe1"
      },
      "source": [
        "from imblearn.over_sampling import SMOTE\n",
        "\n",
        "from sklearn.preprocessing import MinMaxScaler\n",
        "from sklearn.model_selection import train_test_split\n",
        "from sklearn.metrics import classification_report,confusion_matrix\n",
        "\n",
        "from tensorflow import keras"
      ],
      "execution_count": 15,
      "outputs": [
        {
          "output_type": "stream",
          "name": "stderr",
          "text": [
            "/usr/local/lib/python3.7/dist-packages/sklearn/externals/six.py:31: FutureWarning: The module is deprecated in version 0.21 and will be removed in version 0.23 since we've dropped support for Python 2.7. Please rely on the official version of six (https://pypi.org/project/six/).\n",
            "  \"(https://pypi.org/project/six/).\", FutureWarning)\n",
            "/usr/local/lib/python3.7/dist-packages/sklearn/utils/deprecation.py:144: FutureWarning: The sklearn.neighbors.base module is  deprecated in version 0.22 and will be removed in version 0.24. The corresponding classes / functions should instead be imported from sklearn.neighbors. Anything that cannot be imported from sklearn.neighbors is now part of the private API.\n",
            "  warnings.warn(message, FutureWarning)\n"
          ]
        }
      ]
    },
    {
      "cell_type": "markdown",
      "metadata": {
        "id": "ygFVQ1eYGFaG"
      },
      "source": [
        "## **III. Oversampling the data using SMOTE method**\n"
      ]
    },
    {
      "cell_type": "code",
      "metadata": {
        "colab": {
          "base_uri": "https://localhost:8080/"
        },
        "id": "wmsZfOPv1F3V",
        "outputId": "8cff43c5-a4c7-4203-d121-9a217f95bbb5"
      },
      "source": [
        "smote = SMOTE()\n",
        "X,Y = smote.fit_resample(x,y)"
      ],
      "execution_count": 16,
      "outputs": [
        {
          "output_type": "stream",
          "name": "stderr",
          "text": [
            "/usr/local/lib/python3.7/dist-packages/sklearn/utils/deprecation.py:87: FutureWarning: Function safe_indexing is deprecated; safe_indexing is deprecated in version 0.22 and will be removed in version 0.24.\n",
            "  warnings.warn(msg, category=FutureWarning)\n",
            "/usr/local/lib/python3.7/dist-packages/sklearn/utils/deprecation.py:87: FutureWarning: Function safe_indexing is deprecated; safe_indexing is deprecated in version 0.22 and will be removed in version 0.24.\n",
            "  warnings.warn(msg, category=FutureWarning)\n",
            "/usr/local/lib/python3.7/dist-packages/sklearn/utils/deprecation.py:87: FutureWarning: Function safe_indexing is deprecated; safe_indexing is deprecated in version 0.22 and will be removed in version 0.24.\n",
            "  warnings.warn(msg, category=FutureWarning)\n",
            "/usr/local/lib/python3.7/dist-packages/sklearn/utils/deprecation.py:87: FutureWarning: Function safe_indexing is deprecated; safe_indexing is deprecated in version 0.22 and will be removed in version 0.24.\n",
            "  warnings.warn(msg, category=FutureWarning)\n"
          ]
        }
      ]
    },
    {
      "cell_type": "code",
      "metadata": {
        "id": "ZORoQgK62dDq"
      },
      "source": [
        "X = pd.DataFrame(X)\n",
        "Y = pd.DataFrame(Y)\n",
        "X.columns = x.columns"
      ],
      "execution_count": 17,
      "outputs": []
    },
    {
      "cell_type": "code",
      "metadata": {
        "colab": {
          "base_uri": "https://localhost:8080/",
          "height": 531
        },
        "id": "WnMzPfHO1Hz7",
        "outputId": "c641175f-8150-458e-ef26-84743330fb14"
      },
      "source": [
        "#Balanced dataset\n",
        "plt.figure(figsize=(7,7))\n",
        "Y.value_counts().plot(kind='pie',autopct='%.2f')\n",
        "plt.title('Category Pie Chart')\n",
        "plt.show()\n",
        "Y.value_counts()"
      ],
      "execution_count": 18,
      "outputs": [
        {
          "output_type": "display_data",
          "data": {
            "image/png": "[encoded data removed]",
            "text/plain": [
              "<Figure size 504x504 with 1 Axes>"
            ]
          },
          "metadata": {}
        },
        {
          "output_type": "execute_result",
          "data": {
            "text/plain": [
              "4    533\n",
              "3    533\n",
              "2    533\n",
              "1    533\n",
              "0    533\n",
              "dtype: int64"
            ]
          },
          "metadata": {},
          "execution_count": 18
        }
      ]
    },
    {
      "cell_type": "markdown",
      "metadata": {
        "id": "3h9dNiFzGU7g"
      },
      "source": [
        "# **IV. Feature scaling**\n"
      ]
    },
    {
      "cell_type": "code",
      "metadata": {
        "colab": {
          "base_uri": "https://localhost:8080/"
        },
        "id": "LxBrlkE_1Vgg",
        "outputId": "71991b4f-3734-4e8f-cf57-3a01f832b29d"
      },
      "source": [
        "cols_to_scale = X.drop('Sex',axis=1).columns\n",
        "cols_to_scale"
      ],
      "execution_count": 19,
      "outputs": [
        {
          "output_type": "execute_result",
          "data": {
            "text/plain": [
              "Index(['Age', 'ALB', 'ALP', 'ALT', 'AST', 'BIL', 'CHE', 'CHOL', 'CREA', 'GGT',\n",
              "       'PROT'],\n",
              "      dtype='object')"
            ]
          },
          "metadata": {},
          "execution_count": 19
        }
      ]
    },
    {
      "cell_type": "code",
      "metadata": {
        "id": "VASM000T2qpF"
      },
      "source": [
        "scale = MinMaxScaler()\n",
        "scalled = scale.fit_transform(X[cols_to_scale])"
      ],
      "execution_count": 20,
      "outputs": []
    },
    {
      "cell_type": "code",
      "metadata": {
        "id": "RuehCf7Q3kNp"
      },
      "source": [
        "i = 0\n",
        "for col in cols_to_scale:\n",
        "    X[col] = scalled[:,i]\n",
        "    i += 1"
      ],
      "execution_count": 21,
      "outputs": []
    },
    {
      "cell_type": "code",
      "metadata": {
        "colab": {
          "base_uri": "https://localhost:8080/",
          "height": 206
        },
        "id": "4ECUsWuy3mUy",
        "outputId": "0cd15344-8ccc-4bf8-cdb8-cf873f6642cd"
      },
      "source": [
        "X.head()"
      ],
      "execution_count": 22,
      "outputs": [
        {
          "output_type": "execute_result",
          "data": {
            "text/html": [
              "<div>\n",
              "<style scoped>\n",
              "    .dataframe tbody tr th:only-of-type {\n",
              "        vertical-align: middle;\n",
              "    }\n",
              "\n",
              "    .dataframe tbody tr th {\n",
              "        vertical-align: top;\n",
              "    }\n",
              "\n",
              "    .dataframe thead th {\n",
              "        text-align: right;\n",
              "    }\n",
              "</style>\n",
              "<table border=\"1\" class=\"dataframe\">\n",
              "  <thead>\n",
              "    <tr style=\"text-align: right;\">\n",
              "      <th></th>\n",
              "      <th>Age</th>\n",
              "      <th>Sex</th>\n",
              "      <th>ALB</th>\n",
              "      <th>ALP</th>\n",
              "      <th>ALT</th>\n",
              "      <th>AST</th>\n",
              "      <th>BIL</th>\n",
              "      <th>CHE</th>\n",
              "      <th>CHOL</th>\n",
              "      <th>CREA</th>\n",
              "      <th>GGT</th>\n",
              "      <th>PROT</th>\n",
              "    </tr>\n",
              "  </thead>\n",
              "  <tbody>\n",
              "    <tr>\n",
              "      <th>0</th>\n",
              "      <td>0.224138</td>\n",
              "      <td>1.0</td>\n",
              "      <td>0.350669</td>\n",
              "      <td>0.101653</td>\n",
              "      <td>0.020962</td>\n",
              "      <td>0.036694</td>\n",
              "      <td>0.026461</td>\n",
              "      <td>0.367578</td>\n",
              "      <td>0.218447</td>\n",
              "      <td>0.091495</td>\n",
              "      <td>0.011757</td>\n",
              "      <td>0.535398</td>\n",
              "    </tr>\n",
              "    <tr>\n",
              "      <th>1</th>\n",
              "      <td>0.224138</td>\n",
              "      <td>1.0</td>\n",
              "      <td>0.350669</td>\n",
              "      <td>0.145571</td>\n",
              "      <td>0.052713</td>\n",
              "      <td>0.044990</td>\n",
              "      <td>0.012243</td>\n",
              "      <td>0.650434</td>\n",
              "      <td>0.408981</td>\n",
              "      <td>0.061619</td>\n",
              "      <td>0.017172</td>\n",
              "      <td>0.701327</td>\n",
              "    </tr>\n",
              "    <tr>\n",
              "      <th>2</th>\n",
              "      <td>0.224138</td>\n",
              "      <td>1.0</td>\n",
              "      <td>0.475483</td>\n",
              "      <td>0.156427</td>\n",
              "      <td>0.108816</td>\n",
              "      <td>0.134014</td>\n",
              "      <td>0.020932</td>\n",
              "      <td>0.494997</td>\n",
              "      <td>0.457524</td>\n",
              "      <td>0.072822</td>\n",
              "      <td>0.044400</td>\n",
              "      <td>0.763274</td>\n",
              "    </tr>\n",
              "    <tr>\n",
              "      <th>3</th>\n",
              "      <td>0.224138</td>\n",
              "      <td>1.0</td>\n",
              "      <td>0.420505</td>\n",
              "      <td>0.100419</td>\n",
              "      <td>0.091554</td>\n",
              "      <td>0.038290</td>\n",
              "      <td>0.071485</td>\n",
              "      <td>0.394263</td>\n",
              "      <td>0.401699</td>\n",
              "      <td>0.067221</td>\n",
              "      <td>0.045328</td>\n",
              "      <td>0.683628</td>\n",
              "    </tr>\n",
              "    <tr>\n",
              "      <th>4</th>\n",
              "      <td>0.224138</td>\n",
              "      <td>1.0</td>\n",
              "      <td>0.361070</td>\n",
              "      <td>0.154947</td>\n",
              "      <td>0.097719</td>\n",
              "      <td>0.045310</td>\n",
              "      <td>0.034755</td>\n",
              "      <td>0.515677</td>\n",
              "      <td>0.350728</td>\n",
              "      <td>0.063486</td>\n",
              "      <td>0.039295</td>\n",
              "      <td>0.528761</td>\n",
              "    </tr>\n",
              "  </tbody>\n",
              "</table>\n",
              "</div>"
            ],
            "text/plain": [
              "        Age  Sex       ALB       ALP  ...      CHOL      CREA       GGT      PROT\n",
              "0  0.224138  1.0  0.350669  0.101653  ...  0.218447  0.091495  0.011757  0.535398\n",
              "1  0.224138  1.0  0.350669  0.145571  ...  0.408981  0.061619  0.017172  0.701327\n",
              "2  0.224138  1.0  0.475483  0.156427  ...  0.457524  0.072822  0.044400  0.763274\n",
              "3  0.224138  1.0  0.420505  0.100419  ...  0.401699  0.067221  0.045328  0.683628\n",
              "4  0.224138  1.0  0.361070  0.154947  ...  0.350728  0.063486  0.039295  0.528761\n",
              "\n",
              "[5 rows x 12 columns]"
            ]
          },
          "metadata": {},
          "execution_count": 22
        }
      ]
    },
    {
      "cell_type": "markdown",
      "metadata": {
        "id": "tSNlqm_oGaGp"
      },
      "source": [
        "# **V. Train Test Split**\n"
      ]
    },
    {
      "cell_type": "code",
      "metadata": {
        "colab": {
          "base_uri": "https://localhost:8080/"
        },
        "id": "5hlk9z2F3oG6",
        "outputId": "d01b6e8c-2d68-4251-e619-d4e1ec22ab6b"
      },
      "source": [
        "x_train, x_test, y_train, y_test = train_test_split(X,Y, test_size=0.3)\n",
        "x_train.shape, x_test.shape, y_train.shape, y_test.shape"
      ],
      "execution_count": 23,
      "outputs": [
        {
          "output_type": "execute_result",
          "data": {
            "text/plain": [
              "((1865, 12), (800, 12), (1865, 1), (800, 1))"
            ]
          },
          "metadata": {},
          "execution_count": 23
        }
      ]
    },
    {
      "cell_type": "markdown",
      "metadata": {
        "id": "uG6FWk_DH14O"
      },
      "source": [
        "# **VI. Model Fitting**"
      ]
    },
    {
      "cell_type": "markdown",
      "metadata": {
        "id": "yf9OVgIkHhOn"
      },
      "source": [
        "# **Logistic Regression**"
      ]
    },
    {
      "cell_type": "code",
      "metadata": {
        "colab": {
          "base_uri": "https://localhost:8080/"
        },
        "id": "V1FggTqq3rbZ",
        "outputId": "2fffe68d-22ed-4503-9eb8-d38e4090face"
      },
      "source": [
        "from sklearn.linear_model import LogisticRegression\n",
        "from sklearn.multiclass import OneVsOneClassifier\n",
        "from sklearn import metrics\n",
        "\n",
        "lr = OneVsOneClassifier(LogisticRegression())\n",
        "\n",
        "lr.fit(x_train,y_train)\n",
        "\n",
        "Y_pred_lr = lr.predict(x_test)\n",
        "LogisticRegressionScore = lr.score(x_test, y_test)\n",
        "print(\"Accuracy obtained by Logistic Regression model:\",LogisticRegressionScore*100)\n",
        "print(metrics.classification_report(y_test, Y_pred_lr))"
      ],
      "execution_count": 24,
      "outputs": [
        {
          "output_type": "stream",
          "name": "stdout",
          "text": [
            "Accuracy obtained by Logistic Regression model: 87.125\n",
            "              precision    recall  f1-score   support\n",
            "\n",
            "           0       0.86      0.84      0.85       162\n",
            "           1       0.99      1.00      1.00       154\n",
            "           2       0.77      0.78      0.77       157\n",
            "           3       0.80      0.87      0.84       164\n",
            "           4       0.95      0.87      0.91       163\n",
            "\n",
            "    accuracy                           0.87       800\n",
            "   macro avg       0.87      0.87      0.87       800\n",
            "weighted avg       0.87      0.87      0.87       800\n",
            "\n"
          ]
        },
        {
          "output_type": "stream",
          "name": "stderr",
          "text": [
            "/usr/local/lib/python3.7/dist-packages/sklearn/utils/validation.py:760: DataConversionWarning: A column-vector y was passed when a 1d array was expected. Please change the shape of y to (n_samples, ), for example using ravel().\n",
            "  y = column_or_1d(y, warn=True)\n"
          ]
        }
      ]
    },
    {
      "cell_type": "markdown",
      "metadata": {
        "id": "WypWKPDDH9KC"
      },
      "source": [
        "# **Gaussian Naive Bayes**"
      ]
    },
    {
      "cell_type": "code",
      "metadata": {
        "colab": {
          "base_uri": "https://localhost:8080/"
        },
        "id": "VzkvO1yj4Hvj",
        "outputId": "03a89ea7-bfeb-412c-c4d9-8944dd092cbe"
      },
      "source": [
        "from sklearn.naive_bayes import GaussianNB\n",
        "\n",
        "nb = GaussianNB()\n",
        "\n",
        "nb.fit(x_train,y_train)\n",
        "\n",
        "Y_pred_nb = nb.predict(x_test)\n",
        "GaussianNBScore = nb.score(x_test, y_test)\n",
        "print(\"Accuracy obtained by Gaussian Naive Bayes model:\",GaussianNBScore*100)\n",
        "print(metrics.classification_report(y_test, Y_pred_nb))"
      ],
      "execution_count": 25,
      "outputs": [
        {
          "output_type": "stream",
          "name": "stdout",
          "text": [
            "Accuracy obtained by Gaussian Naive Bayes model: 83.75\n",
            "              precision    recall  f1-score   support\n",
            "\n",
            "           0       0.77      0.94      0.85       162\n",
            "           1       0.99      1.00      0.99       154\n",
            "           2       0.72      0.64      0.68       157\n",
            "           3       0.76      0.74      0.75       164\n",
            "           4       0.97      0.87      0.91       163\n",
            "\n",
            "    accuracy                           0.84       800\n",
            "   macro avg       0.84      0.84      0.84       800\n",
            "weighted avg       0.84      0.84      0.84       800\n",
            "\n"
          ]
        },
        {
          "output_type": "stream",
          "name": "stderr",
          "text": [
            "/usr/local/lib/python3.7/dist-packages/sklearn/naive_bayes.py:206: DataConversionWarning: A column-vector y was passed when a 1d array was expected. Please change the shape of y to (n_samples, ), for example using ravel().\n",
            "  y = column_or_1d(y, warn=True)\n"
          ]
        }
      ]
    },
    {
      "cell_type": "markdown",
      "metadata": {
        "id": "8B2_vb94IG5W"
      },
      "source": [
        "# **Support Vector Machine classifier**"
      ]
    },
    {
      "cell_type": "code",
      "metadata": {
        "colab": {
          "base_uri": "https://localhost:8080/"
        },
        "id": "4KaSm_oT6BFV",
        "outputId": "5ec39307-4357-46a3-f140-c4a90906afef"
      },
      "source": [
        "from sklearn.svm import SVC\n",
        "\n",
        "sv = OneVsOneClassifier(SVC())\n",
        "sv.fit(x_train, y_train)\n",
        "Y_pred_svm = sv.predict(x_test)\n",
        "SVMScore = sv.score(x_test, y_test)\n",
        "print(\"Accuracy obtained by Support Vector Machine model:\",SVMScore*100)\n",
        "print(metrics.classification_report(y_test, Y_pred_svm))"
      ],
      "execution_count": 26,
      "outputs": [
        {
          "output_type": "stream",
          "name": "stderr",
          "text": [
            "/usr/local/lib/python3.7/dist-packages/sklearn/utils/validation.py:760: DataConversionWarning: A column-vector y was passed when a 1d array was expected. Please change the shape of y to (n_samples, ), for example using ravel().\n",
            "  y = column_or_1d(y, warn=True)\n"
          ]
        },
        {
          "output_type": "stream",
          "name": "stdout",
          "text": [
            "Accuracy obtained by Support Vector Machine model: 93.5\n",
            "              precision    recall  f1-score   support\n",
            "\n",
            "           0       0.96      0.94      0.95       162\n",
            "           1       1.00      1.00      1.00       154\n",
            "           2       0.87      0.89      0.88       157\n",
            "           3       0.86      0.91      0.89       164\n",
            "           4       0.99      0.94      0.96       163\n",
            "\n",
            "    accuracy                           0.94       800\n",
            "   macro avg       0.94      0.94      0.94       800\n",
            "weighted avg       0.94      0.94      0.94       800\n",
            "\n"
          ]
        }
      ]
    },
    {
      "cell_type": "markdown",
      "metadata": {
        "id": "G17JRX8zISMl"
      },
      "source": [
        "# **Random Forest Classifier**"
      ]
    },
    {
      "cell_type": "code",
      "metadata": {
        "colab": {
          "base_uri": "https://localhost:8080/"
        },
        "id": "gLXQvKNC6k67",
        "outputId": "1c8372a3-e76e-4286-ccbd-6217f946ba90"
      },
      "source": [
        "from sklearn.ensemble import RandomForestClassifier\n",
        "rfc = RandomForestClassifier()\n",
        "rfc.fit(x_train, y_train)\n",
        "Y_pred_rfc = rfc.predict(x_test)\n",
        "RandomForestClassifierScore = rfc.score(x_test,y_test)\n",
        "print(\"Accuracy obtained by Random Forest Classifier :\", RandomForestClassifierScore*100)\n",
        "print(metrics.classification_report(y_test, Y_pred_rfc))"
      ],
      "execution_count": 27,
      "outputs": [
        {
          "output_type": "stream",
          "name": "stderr",
          "text": [
            "/usr/local/lib/python3.7/dist-packages/ipykernel_launcher.py:3: DataConversionWarning: A column-vector y was passed when a 1d array was expected. Please change the shape of y to (n_samples,), for example using ravel().\n",
            "  This is separate from the ipykernel package so we can avoid doing imports until\n"
          ]
        },
        {
          "output_type": "stream",
          "name": "stdout",
          "text": [
            "Accuracy obtained by Random Forest Classifier : 99.0\n",
            "              precision    recall  f1-score   support\n",
            "\n",
            "           0       1.00      0.99      0.99       162\n",
            "           1       1.00      1.00      1.00       154\n",
            "           2       0.99      0.99      0.99       157\n",
            "           3       0.96      0.99      0.98       164\n",
            "           4       0.99      0.98      0.99       163\n",
            "\n",
            "    accuracy                           0.99       800\n",
            "   macro avg       0.99      0.99      0.99       800\n",
            "weighted avg       0.99      0.99      0.99       800\n",
            "\n"
          ]
        }
      ]
    },
    {
      "cell_type": "markdown",
      "metadata": {
        "id": "zAqfa_uYIaon"
      },
      "source": [
        "# **K Nearest Neighbors**"
      ]
    },
    {
      "cell_type": "code",
      "metadata": {
        "colab": {
          "base_uri": "https://localhost:8080/"
        },
        "id": "-UK4JUef6-MP",
        "outputId": "b776dc03-068d-402a-8bf0-8d677e9f2688"
      },
      "source": [
        "from sklearn.neighbors import KNeighborsClassifier\n",
        "knn = KNeighborsClassifier()\n",
        "knn.fit(x_train, y_train)\n",
        "Y_pred_knn = knn.predict(x_test)\n",
        "KNeighborsClassifierScore = knn.score(x_test, y_test)\n",
        "print(\"Accuracy obtained by K Neighbors Classifier :\", KNeighborsClassifierScore*100)\n",
        "print(metrics.classification_report(y_test, Y_pred_knn))"
      ],
      "execution_count": 28,
      "outputs": [
        {
          "output_type": "stream",
          "name": "stdout",
          "text": [
            "Accuracy obtained by K Neighbors Classifier : 96.375\n",
            "              precision    recall  f1-score   support\n",
            "\n",
            "           0       0.99      0.88      0.93       162\n",
            "           1       1.00      1.00      1.00       154\n",
            "           2       0.93      0.98      0.95       157\n",
            "           3       0.93      0.99      0.96       164\n",
            "           4       0.98      0.98      0.98       163\n",
            "\n",
            "    accuracy                           0.96       800\n",
            "   macro avg       0.97      0.96      0.96       800\n",
            "weighted avg       0.97      0.96      0.96       800\n",
            "\n"
          ]
        },
        {
          "output_type": "stream",
          "name": "stderr",
          "text": [
            "/usr/local/lib/python3.7/dist-packages/ipykernel_launcher.py:3: DataConversionWarning: A column-vector y was passed when a 1d array was expected. Please change the shape of y to (n_samples, ), for example using ravel().\n",
            "  This is separate from the ipykernel package so we can avoid doing imports until\n"
          ]
        }
      ]
    },
    {
      "cell_type": "markdown",
      "metadata": {
        "id": "yxz9Yb4YIliT"
      },
      "source": [
        "# **Decision Tree Classifier**"
      ]
    },
    {
      "cell_type": "code",
      "metadata": {
        "colab": {
          "base_uri": "https://localhost:8080/"
        },
        "id": "kQBHDtxV7TWc",
        "outputId": "c6faa933-2319-4ccf-d8ca-c749ad928df2"
      },
      "source": [
        "from sklearn.tree import DecisionTreeClassifier\n",
        "tree = DecisionTreeClassifier()\n",
        "tree.fit(x_train, y_train)\n",
        "y_pred_tree = tree.predict(x_test)\n",
        "DecisionTreeClassifierScore = tree.score(x_test,y_test)\n",
        "print(\"Accuracy obtained by Decision Tree Classifier :\", DecisionTreeClassifierScore*100)\n",
        "print(metrics.classification_report(y_test, y_pred_tree))"
      ],
      "execution_count": 29,
      "outputs": [
        {
          "output_type": "stream",
          "name": "stdout",
          "text": [
            "Accuracy obtained by Decision Tree Classifier : 95.75\n",
            "              precision    recall  f1-score   support\n",
            "\n",
            "           0       0.97      0.97      0.97       162\n",
            "           1       0.99      0.99      0.99       154\n",
            "           2       0.93      0.96      0.95       157\n",
            "           3       0.94      0.95      0.94       164\n",
            "           4       0.96      0.93      0.94       163\n",
            "\n",
            "    accuracy                           0.96       800\n",
            "   macro avg       0.96      0.96      0.96       800\n",
            "weighted avg       0.96      0.96      0.96       800\n",
            "\n"
          ]
        }
      ]
    },
    {
      "cell_type": "markdown",
      "metadata": {
        "id": "ozPfYfASIqlz"
      },
      "source": [
        "# **Artificial Neural Network model**"
      ]
    },
    {
      "cell_type": "code",
      "metadata": {
        "colab": {
          "base_uri": "https://localhost:8080/"
        },
        "id": "FyEC5_IE9sXl",
        "outputId": "50b739dd-2058-4c22-f6e2-4864febb3128"
      },
      "source": [
        "model = keras.Sequential([\n",
        "    keras.layers.Dense(12,input_shape=(12,),activation='relu'),\n",
        "    keras.layers.Dense(5,activation='softmax')\n",
        "])\n",
        "print(model.summary())\n",
        "\n",
        "\n",
        "model.compile(\n",
        "    optimizer='adam',\n",
        "    metrics=['accuracy'],\n",
        "    loss='sparse_categorical_crossentropy'\n",
        ")\n",
        "model.fit(x_train,y_train,validation_data=(x_test,y_test),epochs=200,batch_size=128)"
      ],
      "execution_count": 30,
      "outputs": [
        {
          "output_type": "stream",
          "name": "stdout",
          "text": [
            "Model: \"sequential\"\n",
            "_________________________________________________________________\n",
            "Layer (type)                 Output Shape              Param #   \n",
            "=================================================================\n",
            "dense (Dense)                (None, 12)                156       \n",
            "_________________________________________________________________\n",
            "dense_1 (Dense)              (None, 5)                 65        \n",
            "=================================================================\n",
            "Total params: 221\n",
            "Trainable params: 221\n",
            "Non-trainable params: 0\n",
            "_________________________________________________________________\n",
            "None\n",
            "Epoch 1/200\n",
            "15/15 [==============================] - 1s 19ms/step - loss: 1.6053 - accuracy: 0.2182 - val_loss: 1.5775 - val_accuracy: 0.2375\n",
            "Epoch 2/200\n",
            "15/15 [==============================] - 0s 5ms/step - loss: 1.5816 - accuracy: 0.2166 - val_loss: 1.5558 - val_accuracy: 0.2387\n",
            "Epoch 3/200\n",
            "15/15 [==============================] - 0s 5ms/step - loss: 1.5577 - accuracy: 0.2386 - val_loss: 1.5320 - val_accuracy: 0.3038\n",
            "Epoch 4/200\n",
            "15/15 [==============================] - 0s 5ms/step - loss: 1.5324 - accuracy: 0.3217 - val_loss: 1.5089 - val_accuracy: 0.3450\n",
            "Epoch 5/200\n",
            "15/15 [==============================] - 0s 5ms/step - loss: 1.5092 - accuracy: 0.3721 - val_loss: 1.4869 - val_accuracy: 0.4050\n",
            "Epoch 6/200\n",
            "15/15 [==============================] - 0s 5ms/step - loss: 1.4867 - accuracy: 0.4466 - val_loss: 1.4651 - val_accuracy: 0.4750\n",
            "Epoch 7/200\n",
            "15/15 [==============================] - 0s 5ms/step - loss: 1.4643 - accuracy: 0.5019 - val_loss: 1.4431 - val_accuracy: 0.5038\n",
            "Epoch 8/200\n",
            "15/15 [==============================] - 0s 6ms/step - loss: 1.4419 - accuracy: 0.5062 - val_loss: 1.4207 - val_accuracy: 0.5075\n",
            "Epoch 9/200\n",
            "15/15 [==============================] - 0s 5ms/step - loss: 1.4187 - accuracy: 0.5121 - val_loss: 1.3985 - val_accuracy: 0.5050\n",
            "Epoch 10/200\n",
            "15/15 [==============================] - 0s 6ms/step - loss: 1.3968 - accuracy: 0.5062 - val_loss: 1.3773 - val_accuracy: 0.4863\n",
            "Epoch 11/200\n",
            "15/15 [==============================] - 0s 6ms/step - loss: 1.3751 - accuracy: 0.4869 - val_loss: 1.3561 - val_accuracy: 0.4787\n",
            "Epoch 12/200\n",
            "15/15 [==============================] - 0s 6ms/step - loss: 1.3541 - accuracy: 0.4901 - val_loss: 1.3363 - val_accuracy: 0.4900\n",
            "Epoch 13/200\n",
            "15/15 [==============================] - 0s 6ms/step - loss: 1.3337 - accuracy: 0.4912 - val_loss: 1.3167 - val_accuracy: 0.4875\n",
            "Epoch 14/200\n",
            "15/15 [==============================] - 0s 6ms/step - loss: 1.3137 - accuracy: 0.4965 - val_loss: 1.2975 - val_accuracy: 0.4963\n",
            "Epoch 15/200\n",
            "15/15 [==============================] - 0s 5ms/step - loss: 1.2942 - accuracy: 0.5067 - val_loss: 1.2787 - val_accuracy: 0.5063\n",
            "Epoch 16/200\n",
            "15/15 [==============================] - 0s 6ms/step - loss: 1.2753 - accuracy: 0.5271 - val_loss: 1.2603 - val_accuracy: 0.5300\n",
            "Epoch 17/200\n",
            "15/15 [==============================] - 0s 6ms/step - loss: 1.2567 - accuracy: 0.5432 - val_loss: 1.2423 - val_accuracy: 0.5412\n",
            "Epoch 18/200\n",
            "15/15 [==============================] - 0s 6ms/step - loss: 1.2391 - accuracy: 0.5614 - val_loss: 1.2252 - val_accuracy: 0.5713\n",
            "Epoch 19/200\n",
            "15/15 [==============================] - 0s 5ms/step - loss: 1.2210 - accuracy: 0.5694 - val_loss: 1.2080 - val_accuracy: 0.5738\n",
            "Epoch 20/200\n",
            "15/15 [==============================] - 0s 6ms/step - loss: 1.2036 - accuracy: 0.5807 - val_loss: 1.1911 - val_accuracy: 0.5938\n",
            "Epoch 21/200\n",
            "15/15 [==============================] - 0s 6ms/step - loss: 1.1866 - accuracy: 0.5946 - val_loss: 1.1743 - val_accuracy: 0.6100\n",
            "Epoch 22/200\n",
            "15/15 [==============================] - 0s 6ms/step - loss: 1.1698 - accuracy: 0.6059 - val_loss: 1.1580 - val_accuracy: 0.6212\n",
            "Epoch 23/200\n",
            "15/15 [==============================] - 0s 7ms/step - loss: 1.1531 - accuracy: 0.6231 - val_loss: 1.1419 - val_accuracy: 0.6350\n",
            "Epoch 24/200\n",
            "15/15 [==============================] - 0s 5ms/step - loss: 1.1367 - accuracy: 0.6391 - val_loss: 1.1259 - val_accuracy: 0.6575\n",
            "Epoch 25/200\n",
            "15/15 [==============================] - 0s 6ms/step - loss: 1.1208 - accuracy: 0.6493 - val_loss: 1.1099 - val_accuracy: 0.6662\n",
            "Epoch 26/200\n",
            "15/15 [==============================] - 0s 6ms/step - loss: 1.1044 - accuracy: 0.6681 - val_loss: 1.0937 - val_accuracy: 0.6787\n",
            "Epoch 27/200\n",
            "15/15 [==============================] - 0s 5ms/step - loss: 1.0885 - accuracy: 0.6745 - val_loss: 1.0780 - val_accuracy: 0.6900\n",
            "Epoch 28/200\n",
            "15/15 [==============================] - 0s 6ms/step - loss: 1.0727 - accuracy: 0.6810 - val_loss: 1.0627 - val_accuracy: 0.6950\n",
            "Epoch 29/200\n",
            "15/15 [==============================] - 0s 6ms/step - loss: 1.0571 - accuracy: 0.6917 - val_loss: 1.0473 - val_accuracy: 0.7075\n",
            "Epoch 30/200\n",
            "15/15 [==============================] - 0s 6ms/step - loss: 1.0418 - accuracy: 0.6992 - val_loss: 1.0318 - val_accuracy: 0.7200\n",
            "Epoch 31/200\n",
            "15/15 [==============================] - 0s 5ms/step - loss: 1.0263 - accuracy: 0.7147 - val_loss: 1.0166 - val_accuracy: 0.7337\n",
            "Epoch 32/200\n",
            "15/15 [==============================] - 0s 6ms/step - loss: 1.0112 - accuracy: 0.7201 - val_loss: 1.0014 - val_accuracy: 0.7262\n",
            "Epoch 33/200\n",
            "15/15 [==============================] - 0s 6ms/step - loss: 0.9960 - accuracy: 0.7282 - val_loss: 0.9859 - val_accuracy: 0.7412\n",
            "Epoch 34/200\n",
            "15/15 [==============================] - 0s 6ms/step - loss: 0.9806 - accuracy: 0.7485 - val_loss: 0.9704 - val_accuracy: 0.7600\n",
            "Epoch 35/200\n",
            "15/15 [==============================] - 0s 6ms/step - loss: 0.9645 - accuracy: 0.7421 - val_loss: 0.9536 - val_accuracy: 0.7475\n",
            "Epoch 36/200\n",
            "15/15 [==============================] - 0s 5ms/step - loss: 0.9476 - accuracy: 0.7555 - val_loss: 0.9361 - val_accuracy: 0.7638\n",
            "Epoch 37/200\n",
            "15/15 [==============================] - 0s 5ms/step - loss: 0.9300 - accuracy: 0.7480 - val_loss: 0.9181 - val_accuracy: 0.7650\n",
            "Epoch 38/200\n",
            "15/15 [==============================] - 0s 5ms/step - loss: 0.9113 - accuracy: 0.7732 - val_loss: 0.9004 - val_accuracy: 0.7912\n",
            "Epoch 39/200\n",
            "15/15 [==============================] - 0s 5ms/step - loss: 0.8932 - accuracy: 0.7753 - val_loss: 0.8832 - val_accuracy: 0.7875\n",
            "Epoch 40/200\n",
            "15/15 [==============================] - 0s 5ms/step - loss: 0.8761 - accuracy: 0.7839 - val_loss: 0.8666 - val_accuracy: 0.7912\n",
            "Epoch 41/200\n",
            "15/15 [==============================] - 0s 5ms/step - loss: 0.8593 - accuracy: 0.7861 - val_loss: 0.8504 - val_accuracy: 0.7862\n",
            "Epoch 42/200\n",
            "15/15 [==============================] - 0s 5ms/step - loss: 0.8440 - accuracy: 0.8000 - val_loss: 0.8354 - val_accuracy: 0.8025\n",
            "Epoch 43/200\n",
            "15/15 [==============================] - 0s 5ms/step - loss: 0.8289 - accuracy: 0.8048 - val_loss: 0.8215 - val_accuracy: 0.8012\n",
            "Epoch 44/200\n",
            "15/15 [==============================] - 0s 6ms/step - loss: 0.8148 - accuracy: 0.8075 - val_loss: 0.8077 - val_accuracy: 0.8075\n",
            "Epoch 45/200\n",
            "15/15 [==============================] - 0s 6ms/step - loss: 0.8015 - accuracy: 0.8188 - val_loss: 0.7947 - val_accuracy: 0.8213\n",
            "Epoch 46/200\n",
            "15/15 [==============================] - 0s 6ms/step - loss: 0.7888 - accuracy: 0.8209 - val_loss: 0.7824 - val_accuracy: 0.8275\n",
            "Epoch 47/200\n",
            "15/15 [==============================] - 0s 5ms/step - loss: 0.7768 - accuracy: 0.8236 - val_loss: 0.7711 - val_accuracy: 0.8288\n",
            "Epoch 48/200\n",
            "15/15 [==============================] - 0s 5ms/step - loss: 0.7654 - accuracy: 0.8177 - val_loss: 0.7601 - val_accuracy: 0.8275\n",
            "Epoch 49/200\n",
            "15/15 [==============================] - 0s 5ms/step - loss: 0.7541 - accuracy: 0.8209 - val_loss: 0.7492 - val_accuracy: 0.8338\n",
            "Epoch 50/200\n",
            "15/15 [==============================] - 0s 6ms/step - loss: 0.7442 - accuracy: 0.8214 - val_loss: 0.7396 - val_accuracy: 0.8400\n",
            "Epoch 51/200\n",
            "15/15 [==============================] - 0s 5ms/step - loss: 0.7335 - accuracy: 0.8300 - val_loss: 0.7290 - val_accuracy: 0.8438\n",
            "Epoch 52/200\n",
            "15/15 [==============================] - 0s 5ms/step - loss: 0.7237 - accuracy: 0.8268 - val_loss: 0.7195 - val_accuracy: 0.8450\n",
            "Epoch 53/200\n",
            "15/15 [==============================] - 0s 5ms/step - loss: 0.7144 - accuracy: 0.8273 - val_loss: 0.7106 - val_accuracy: 0.8450\n",
            "Epoch 54/200\n",
            "15/15 [==============================] - 0s 5ms/step - loss: 0.7057 - accuracy: 0.8295 - val_loss: 0.7021 - val_accuracy: 0.8487\n",
            "Epoch 55/200\n",
            "15/15 [==============================] - 0s 5ms/step - loss: 0.6968 - accuracy: 0.8322 - val_loss: 0.6936 - val_accuracy: 0.8500\n",
            "Epoch 56/200\n",
            "15/15 [==============================] - 0s 5ms/step - loss: 0.6885 - accuracy: 0.8338 - val_loss: 0.6851 - val_accuracy: 0.8500\n",
            "Epoch 57/200\n",
            "15/15 [==============================] - 0s 7ms/step - loss: 0.6805 - accuracy: 0.8397 - val_loss: 0.6774 - val_accuracy: 0.8500\n",
            "Epoch 58/200\n",
            "15/15 [==============================] - 0s 5ms/step - loss: 0.6723 - accuracy: 0.8402 - val_loss: 0.6698 - val_accuracy: 0.8512\n",
            "Epoch 59/200\n",
            "15/15 [==============================] - 0s 6ms/step - loss: 0.6649 - accuracy: 0.8391 - val_loss: 0.6624 - val_accuracy: 0.8487\n",
            "Epoch 60/200\n",
            "15/15 [==============================] - 0s 5ms/step - loss: 0.6575 - accuracy: 0.8397 - val_loss: 0.6551 - val_accuracy: 0.8537\n",
            "Epoch 61/200\n",
            "15/15 [==============================] - 0s 5ms/step - loss: 0.6502 - accuracy: 0.8445 - val_loss: 0.6484 - val_accuracy: 0.8525\n",
            "Epoch 62/200\n",
            "15/15 [==============================] - 0s 5ms/step - loss: 0.6435 - accuracy: 0.8461 - val_loss: 0.6414 - val_accuracy: 0.8500\n",
            "Epoch 63/200\n",
            "15/15 [==============================] - 0s 5ms/step - loss: 0.6363 - accuracy: 0.8440 - val_loss: 0.6347 - val_accuracy: 0.8550\n",
            "Epoch 64/200\n",
            "15/15 [==============================] - 0s 6ms/step - loss: 0.6299 - accuracy: 0.8504 - val_loss: 0.6280 - val_accuracy: 0.8550\n",
            "Epoch 65/200\n",
            "15/15 [==============================] - 0s 5ms/step - loss: 0.6234 - accuracy: 0.8509 - val_loss: 0.6219 - val_accuracy: 0.8562\n",
            "Epoch 66/200\n",
            "15/15 [==============================] - 0s 5ms/step - loss: 0.6167 - accuracy: 0.8504 - val_loss: 0.6155 - val_accuracy: 0.8512\n",
            "Epoch 67/200\n",
            "15/15 [==============================] - 0s 5ms/step - loss: 0.6108 - accuracy: 0.8499 - val_loss: 0.6096 - val_accuracy: 0.8537\n",
            "Epoch 68/200\n",
            "15/15 [==============================] - 0s 5ms/step - loss: 0.6044 - accuracy: 0.8584 - val_loss: 0.6038 - val_accuracy: 0.8562\n",
            "Epoch 69/200\n",
            "15/15 [==============================] - 0s 5ms/step - loss: 0.5987 - accuracy: 0.8590 - val_loss: 0.5979 - val_accuracy: 0.8575\n",
            "Epoch 70/200\n",
            "15/15 [==============================] - 0s 5ms/step - loss: 0.5931 - accuracy: 0.8606 - val_loss: 0.5925 - val_accuracy: 0.8625\n",
            "Epoch 71/200\n",
            "15/15 [==============================] - 0s 6ms/step - loss: 0.5871 - accuracy: 0.8643 - val_loss: 0.5867 - val_accuracy: 0.8625\n",
            "Epoch 72/200\n",
            "15/15 [==============================] - 0s 6ms/step - loss: 0.5822 - accuracy: 0.8638 - val_loss: 0.5811 - val_accuracy: 0.8612\n",
            "Epoch 73/200\n",
            "15/15 [==============================] - 0s 5ms/step - loss: 0.5762 - accuracy: 0.8638 - val_loss: 0.5766 - val_accuracy: 0.8650\n",
            "Epoch 74/200\n",
            "15/15 [==============================] - 0s 6ms/step - loss: 0.5709 - accuracy: 0.8649 - val_loss: 0.5715 - val_accuracy: 0.8662\n",
            "Epoch 75/200\n",
            "15/15 [==============================] - 0s 6ms/step - loss: 0.5658 - accuracy: 0.8665 - val_loss: 0.5664 - val_accuracy: 0.8662\n",
            "Epoch 76/200\n",
            "15/15 [==============================] - 0s 5ms/step - loss: 0.5608 - accuracy: 0.8692 - val_loss: 0.5614 - val_accuracy: 0.8700\n",
            "Epoch 77/200\n",
            "15/15 [==============================] - 0s 5ms/step - loss: 0.5560 - accuracy: 0.8686 - val_loss: 0.5567 - val_accuracy: 0.8637\n",
            "Epoch 78/200\n",
            "15/15 [==============================] - 0s 5ms/step - loss: 0.5509 - accuracy: 0.8692 - val_loss: 0.5523 - val_accuracy: 0.8700\n",
            "Epoch 79/200\n",
            "15/15 [==============================] - 0s 5ms/step - loss: 0.5463 - accuracy: 0.8686 - val_loss: 0.5475 - val_accuracy: 0.8687\n",
            "Epoch 80/200\n",
            "15/15 [==============================] - 0s 6ms/step - loss: 0.5416 - accuracy: 0.8708 - val_loss: 0.5434 - val_accuracy: 0.8662\n",
            "Epoch 81/200\n",
            "15/15 [==============================] - 0s 5ms/step - loss: 0.5375 - accuracy: 0.8697 - val_loss: 0.5389 - val_accuracy: 0.8650\n",
            "Epoch 82/200\n",
            "15/15 [==============================] - 0s 5ms/step - loss: 0.5332 - accuracy: 0.8697 - val_loss: 0.5351 - val_accuracy: 0.8687\n",
            "Epoch 83/200\n",
            "15/15 [==============================] - 0s 6ms/step - loss: 0.5284 - accuracy: 0.8686 - val_loss: 0.5308 - val_accuracy: 0.8662\n",
            "Epoch 84/200\n",
            "15/15 [==============================] - 0s 5ms/step - loss: 0.5241 - accuracy: 0.8724 - val_loss: 0.5266 - val_accuracy: 0.8662\n",
            "Epoch 85/200\n",
            "15/15 [==============================] - 0s 5ms/step - loss: 0.5202 - accuracy: 0.8697 - val_loss: 0.5227 - val_accuracy: 0.8650\n",
            "Epoch 86/200\n",
            "15/15 [==============================] - 0s 5ms/step - loss: 0.5160 - accuracy: 0.8729 - val_loss: 0.5192 - val_accuracy: 0.8687\n",
            "Epoch 87/200\n",
            "15/15 [==============================] - 0s 6ms/step - loss: 0.5121 - accuracy: 0.8729 - val_loss: 0.5154 - val_accuracy: 0.8662\n",
            "Epoch 88/200\n",
            "15/15 [==============================] - 0s 5ms/step - loss: 0.5083 - accuracy: 0.8718 - val_loss: 0.5121 - val_accuracy: 0.8662\n",
            "Epoch 89/200\n",
            "15/15 [==============================] - 0s 6ms/step - loss: 0.5042 - accuracy: 0.8756 - val_loss: 0.5082 - val_accuracy: 0.8637\n",
            "Epoch 90/200\n",
            "15/15 [==============================] - 0s 6ms/step - loss: 0.5002 - accuracy: 0.8735 - val_loss: 0.5045 - val_accuracy: 0.8650\n",
            "Epoch 91/200\n",
            "15/15 [==============================] - 0s 6ms/step - loss: 0.4966 - accuracy: 0.8745 - val_loss: 0.5010 - val_accuracy: 0.8650\n",
            "Epoch 92/200\n",
            "15/15 [==============================] - 0s 6ms/step - loss: 0.4930 - accuracy: 0.8756 - val_loss: 0.4978 - val_accuracy: 0.8675\n",
            "Epoch 93/200\n",
            "15/15 [==============================] - 0s 5ms/step - loss: 0.4897 - accuracy: 0.8756 - val_loss: 0.4942 - val_accuracy: 0.8675\n",
            "Epoch 94/200\n",
            "15/15 [==============================] - 0s 6ms/step - loss: 0.4860 - accuracy: 0.8756 - val_loss: 0.4915 - val_accuracy: 0.8712\n",
            "Epoch 95/200\n",
            "15/15 [==============================] - 0s 6ms/step - loss: 0.4826 - accuracy: 0.8777 - val_loss: 0.4882 - val_accuracy: 0.8687\n",
            "Epoch 96/200\n",
            "15/15 [==============================] - 0s 5ms/step - loss: 0.4793 - accuracy: 0.8772 - val_loss: 0.4853 - val_accuracy: 0.8700\n",
            "Epoch 97/200\n",
            "15/15 [==============================] - 0s 6ms/step - loss: 0.4758 - accuracy: 0.8788 - val_loss: 0.4822 - val_accuracy: 0.8737\n",
            "Epoch 98/200\n",
            "15/15 [==============================] - 0s 5ms/step - loss: 0.4726 - accuracy: 0.8777 - val_loss: 0.4792 - val_accuracy: 0.8737\n",
            "Epoch 99/200\n",
            "15/15 [==============================] - 0s 5ms/step - loss: 0.4696 - accuracy: 0.8777 - val_loss: 0.4759 - val_accuracy: 0.8737\n",
            "Epoch 100/200\n",
            "15/15 [==============================] - 0s 5ms/step - loss: 0.4665 - accuracy: 0.8804 - val_loss: 0.4732 - val_accuracy: 0.8712\n",
            "Epoch 101/200\n",
            "15/15 [==============================] - 0s 5ms/step - loss: 0.4631 - accuracy: 0.8788 - val_loss: 0.4705 - val_accuracy: 0.8725\n",
            "Epoch 102/200\n",
            "15/15 [==============================] - 0s 5ms/step - loss: 0.4605 - accuracy: 0.8777 - val_loss: 0.4682 - val_accuracy: 0.8763\n",
            "Epoch 103/200\n",
            "15/15 [==============================] - 0s 5ms/step - loss: 0.4574 - accuracy: 0.8783 - val_loss: 0.4653 - val_accuracy: 0.8725\n",
            "Epoch 104/200\n",
            "15/15 [==============================] - 0s 5ms/step - loss: 0.4544 - accuracy: 0.8799 - val_loss: 0.4626 - val_accuracy: 0.8775\n",
            "Epoch 105/200\n",
            "15/15 [==============================] - 0s 5ms/step - loss: 0.4514 - accuracy: 0.8794 - val_loss: 0.4598 - val_accuracy: 0.8725\n",
            "Epoch 106/200\n",
            "15/15 [==============================] - 0s 5ms/step - loss: 0.4485 - accuracy: 0.8804 - val_loss: 0.4575 - val_accuracy: 0.8737\n",
            "Epoch 107/200\n",
            "15/15 [==============================] - 0s 5ms/step - loss: 0.4459 - accuracy: 0.8788 - val_loss: 0.4549 - val_accuracy: 0.8775\n",
            "Epoch 108/200\n",
            "15/15 [==============================] - 0s 6ms/step - loss: 0.4435 - accuracy: 0.8799 - val_loss: 0.4524 - val_accuracy: 0.8763\n",
            "Epoch 109/200\n",
            "15/15 [==============================] - 0s 5ms/step - loss: 0.4406 - accuracy: 0.8799 - val_loss: 0.4503 - val_accuracy: 0.8775\n",
            "Epoch 110/200\n",
            "15/15 [==============================] - 0s 5ms/step - loss: 0.4381 - accuracy: 0.8804 - val_loss: 0.4474 - val_accuracy: 0.8788\n",
            "Epoch 111/200\n",
            "15/15 [==============================] - 0s 5ms/step - loss: 0.4354 - accuracy: 0.8799 - val_loss: 0.4450 - val_accuracy: 0.8788\n",
            "Epoch 112/200\n",
            "15/15 [==============================] - 0s 5ms/step - loss: 0.4331 - accuracy: 0.8810 - val_loss: 0.4427 - val_accuracy: 0.8788\n",
            "Epoch 113/200\n",
            "15/15 [==============================] - 0s 5ms/step - loss: 0.4304 - accuracy: 0.8810 - val_loss: 0.4410 - val_accuracy: 0.8788\n",
            "Epoch 114/200\n",
            "15/15 [==============================] - 0s 6ms/step - loss: 0.4281 - accuracy: 0.8826 - val_loss: 0.4381 - val_accuracy: 0.8800\n",
            "Epoch 115/200\n",
            "15/15 [==============================] - 0s 6ms/step - loss: 0.4262 - accuracy: 0.8831 - val_loss: 0.4370 - val_accuracy: 0.8775\n",
            "Epoch 116/200\n",
            "15/15 [==============================] - 0s 6ms/step - loss: 0.4236 - accuracy: 0.8853 - val_loss: 0.4338 - val_accuracy: 0.8800\n",
            "Epoch 117/200\n",
            "15/15 [==============================] - 0s 6ms/step - loss: 0.4207 - accuracy: 0.8847 - val_loss: 0.4319 - val_accuracy: 0.8800\n",
            "Epoch 118/200\n",
            "15/15 [==============================] - 0s 5ms/step - loss: 0.4185 - accuracy: 0.8869 - val_loss: 0.4306 - val_accuracy: 0.8800\n",
            "Epoch 119/200\n",
            "15/15 [==============================] - 0s 5ms/step - loss: 0.4164 - accuracy: 0.8879 - val_loss: 0.4279 - val_accuracy: 0.8813\n",
            "Epoch 120/200\n",
            "15/15 [==============================] - 0s 5ms/step - loss: 0.4143 - accuracy: 0.8885 - val_loss: 0.4260 - val_accuracy: 0.8813\n",
            "Epoch 121/200\n",
            "15/15 [==============================] - 0s 7ms/step - loss: 0.4118 - accuracy: 0.8863 - val_loss: 0.4238 - val_accuracy: 0.8800\n",
            "Epoch 122/200\n",
            "15/15 [==============================] - 0s 5ms/step - loss: 0.4099 - accuracy: 0.8853 - val_loss: 0.4218 - val_accuracy: 0.8813\n",
            "Epoch 123/200\n",
            "15/15 [==============================] - 0s 5ms/step - loss: 0.4076 - accuracy: 0.8863 - val_loss: 0.4203 - val_accuracy: 0.8825\n",
            "Epoch 124/200\n",
            "15/15 [==============================] - 0s 6ms/step - loss: 0.4056 - accuracy: 0.8879 - val_loss: 0.4184 - val_accuracy: 0.8825\n",
            "Epoch 125/200\n",
            "15/15 [==============================] - 0s 7ms/step - loss: 0.4035 - accuracy: 0.8895 - val_loss: 0.4165 - val_accuracy: 0.8850\n",
            "Epoch 126/200\n",
            "15/15 [==============================] - 0s 6ms/step - loss: 0.4013 - accuracy: 0.8895 - val_loss: 0.4145 - val_accuracy: 0.8813\n",
            "Epoch 127/200\n",
            "15/15 [==============================] - 0s 6ms/step - loss: 0.3997 - accuracy: 0.8917 - val_loss: 0.4134 - val_accuracy: 0.8850\n",
            "Epoch 128/200\n",
            "15/15 [==============================] - 0s 5ms/step - loss: 0.3973 - accuracy: 0.8901 - val_loss: 0.4110 - val_accuracy: 0.8813\n",
            "Epoch 129/200\n",
            "15/15 [==============================] - 0s 5ms/step - loss: 0.3953 - accuracy: 0.8895 - val_loss: 0.4099 - val_accuracy: 0.8850\n",
            "Epoch 130/200\n",
            "15/15 [==============================] - 0s 5ms/step - loss: 0.3933 - accuracy: 0.8906 - val_loss: 0.4077 - val_accuracy: 0.8863\n",
            "Epoch 131/200\n",
            "15/15 [==============================] - 0s 6ms/step - loss: 0.3918 - accuracy: 0.8928 - val_loss: 0.4057 - val_accuracy: 0.8838\n",
            "Epoch 132/200\n",
            "15/15 [==============================] - 0s 5ms/step - loss: 0.3898 - accuracy: 0.8928 - val_loss: 0.4043 - val_accuracy: 0.8863\n",
            "Epoch 133/200\n",
            "15/15 [==============================] - 0s 5ms/step - loss: 0.3879 - accuracy: 0.8933 - val_loss: 0.4031 - val_accuracy: 0.8900\n",
            "Epoch 134/200\n",
            "15/15 [==============================] - 0s 7ms/step - loss: 0.3861 - accuracy: 0.8938 - val_loss: 0.4007 - val_accuracy: 0.8875\n",
            "Epoch 135/200\n",
            "15/15 [==============================] - 0s 5ms/step - loss: 0.3844 - accuracy: 0.8901 - val_loss: 0.3993 - val_accuracy: 0.8875\n",
            "Epoch 136/200\n",
            "15/15 [==============================] - 0s 6ms/step - loss: 0.3821 - accuracy: 0.8938 - val_loss: 0.3979 - val_accuracy: 0.8913\n",
            "Epoch 137/200\n",
            "15/15 [==============================] - 0s 5ms/step - loss: 0.3805 - accuracy: 0.8954 - val_loss: 0.3959 - val_accuracy: 0.8900\n",
            "Epoch 138/200\n",
            "15/15 [==============================] - 0s 6ms/step - loss: 0.3793 - accuracy: 0.8933 - val_loss: 0.3952 - val_accuracy: 0.8913\n",
            "Epoch 139/200\n",
            "15/15 [==============================] - 0s 5ms/step - loss: 0.3778 - accuracy: 0.8933 - val_loss: 0.3927 - val_accuracy: 0.8900\n",
            "Epoch 140/200\n",
            "15/15 [==============================] - 0s 5ms/step - loss: 0.3752 - accuracy: 0.8938 - val_loss: 0.3919 - val_accuracy: 0.8925\n",
            "Epoch 141/200\n",
            "15/15 [==============================] - 0s 6ms/step - loss: 0.3737 - accuracy: 0.8944 - val_loss: 0.3905 - val_accuracy: 0.8950\n",
            "Epoch 142/200\n",
            "15/15 [==============================] - 0s 5ms/step - loss: 0.3723 - accuracy: 0.8976 - val_loss: 0.3880 - val_accuracy: 0.8913\n",
            "Epoch 143/200\n",
            "15/15 [==============================] - 0s 5ms/step - loss: 0.3704 - accuracy: 0.8949 - val_loss: 0.3876 - val_accuracy: 0.8913\n",
            "Epoch 144/200\n",
            "15/15 [==============================] - 0s 6ms/step - loss: 0.3686 - accuracy: 0.8965 - val_loss: 0.3858 - val_accuracy: 0.8925\n",
            "Epoch 145/200\n",
            "15/15 [==============================] - 0s 6ms/step - loss: 0.3672 - accuracy: 0.8971 - val_loss: 0.3842 - val_accuracy: 0.8950\n",
            "Epoch 146/200\n",
            "15/15 [==============================] - 0s 6ms/step - loss: 0.3655 - accuracy: 0.8965 - val_loss: 0.3831 - val_accuracy: 0.8950\n",
            "Epoch 147/200\n",
            "15/15 [==============================] - 0s 5ms/step - loss: 0.3643 - accuracy: 0.8965 - val_loss: 0.3809 - val_accuracy: 0.8913\n",
            "Epoch 148/200\n",
            "15/15 [==============================] - 0s 5ms/step - loss: 0.3623 - accuracy: 0.8965 - val_loss: 0.3799 - val_accuracy: 0.8963\n",
            "Epoch 149/200\n",
            "15/15 [==============================] - 0s 5ms/step - loss: 0.3610 - accuracy: 0.8981 - val_loss: 0.3783 - val_accuracy: 0.8963\n",
            "Epoch 150/200\n",
            "15/15 [==============================] - 0s 7ms/step - loss: 0.3596 - accuracy: 0.8987 - val_loss: 0.3779 - val_accuracy: 0.8950\n",
            "Epoch 151/200\n",
            "15/15 [==============================] - 0s 5ms/step - loss: 0.3580 - accuracy: 0.8976 - val_loss: 0.3755 - val_accuracy: 0.8975\n",
            "Epoch 152/200\n",
            "15/15 [==============================] - 0s 5ms/step - loss: 0.3566 - accuracy: 0.9003 - val_loss: 0.3744 - val_accuracy: 0.9013\n",
            "Epoch 153/200\n",
            "15/15 [==============================] - 0s 5ms/step - loss: 0.3550 - accuracy: 0.8997 - val_loss: 0.3732 - val_accuracy: 0.8938\n",
            "Epoch 154/200\n",
            "15/15 [==============================] - 0s 5ms/step - loss: 0.3545 - accuracy: 0.8992 - val_loss: 0.3720 - val_accuracy: 0.8975\n",
            "Epoch 155/200\n",
            "15/15 [==============================] - 0s 5ms/step - loss: 0.3523 - accuracy: 0.9008 - val_loss: 0.3713 - val_accuracy: 0.9000\n",
            "Epoch 156/200\n",
            "15/15 [==============================] - 0s 6ms/step - loss: 0.3505 - accuracy: 0.9008 - val_loss: 0.3687 - val_accuracy: 0.9013\n",
            "Epoch 157/200\n",
            "15/15 [==============================] - 0s 6ms/step - loss: 0.3494 - accuracy: 0.8997 - val_loss: 0.3672 - val_accuracy: 0.9025\n",
            "Epoch 158/200\n",
            "15/15 [==============================] - 0s 5ms/step - loss: 0.3480 - accuracy: 0.9029 - val_loss: 0.3669 - val_accuracy: 0.9000\n",
            "Epoch 159/200\n",
            "15/15 [==============================] - 0s 6ms/step - loss: 0.3467 - accuracy: 0.9024 - val_loss: 0.3654 - val_accuracy: 0.9013\n",
            "Epoch 160/200\n",
            "15/15 [==============================] - 0s 6ms/step - loss: 0.3456 - accuracy: 0.9019 - val_loss: 0.3638 - val_accuracy: 0.9050\n",
            "Epoch 161/200\n",
            "15/15 [==============================] - 0s 6ms/step - loss: 0.3438 - accuracy: 0.9046 - val_loss: 0.3632 - val_accuracy: 0.9000\n",
            "Epoch 162/200\n",
            "15/15 [==============================] - 0s 6ms/step - loss: 0.3425 - accuracy: 0.9040 - val_loss: 0.3617 - val_accuracy: 0.9013\n",
            "Epoch 163/200\n",
            "15/15 [==============================] - 0s 6ms/step - loss: 0.3410 - accuracy: 0.9056 - val_loss: 0.3605 - val_accuracy: 0.9025\n",
            "Epoch 164/200\n",
            "15/15 [==============================] - 0s 5ms/step - loss: 0.3399 - accuracy: 0.9046 - val_loss: 0.3593 - val_accuracy: 0.9025\n",
            "Epoch 165/200\n",
            "15/15 [==============================] - 0s 5ms/step - loss: 0.3386 - accuracy: 0.9040 - val_loss: 0.3576 - val_accuracy: 0.9050\n",
            "Epoch 166/200\n",
            "15/15 [==============================] - 0s 5ms/step - loss: 0.3370 - accuracy: 0.9046 - val_loss: 0.3573 - val_accuracy: 0.9013\n",
            "Epoch 167/200\n",
            "15/15 [==============================] - 0s 6ms/step - loss: 0.3360 - accuracy: 0.9072 - val_loss: 0.3560 - val_accuracy: 0.9050\n",
            "Epoch 168/200\n",
            "15/15 [==============================] - 0s 7ms/step - loss: 0.3348 - accuracy: 0.9046 - val_loss: 0.3542 - val_accuracy: 0.9038\n",
            "Epoch 169/200\n",
            "15/15 [==============================] - 0s 6ms/step - loss: 0.3339 - accuracy: 0.9046 - val_loss: 0.3540 - val_accuracy: 0.9050\n",
            "Epoch 170/200\n",
            "15/15 [==============================] - 0s 5ms/step - loss: 0.3326 - accuracy: 0.9046 - val_loss: 0.3524 - val_accuracy: 0.9050\n",
            "Epoch 171/200\n",
            "15/15 [==============================] - 0s 7ms/step - loss: 0.3310 - accuracy: 0.9051 - val_loss: 0.3510 - val_accuracy: 0.9050\n",
            "Epoch 172/200\n",
            "15/15 [==============================] - 0s 6ms/step - loss: 0.3297 - accuracy: 0.9051 - val_loss: 0.3503 - val_accuracy: 0.9075\n",
            "Epoch 173/200\n",
            "15/15 [==============================] - 0s 5ms/step - loss: 0.3288 - accuracy: 0.9046 - val_loss: 0.3484 - val_accuracy: 0.9075\n",
            "Epoch 174/200\n",
            "15/15 [==============================] - 0s 6ms/step - loss: 0.3273 - accuracy: 0.9056 - val_loss: 0.3478 - val_accuracy: 0.9075\n",
            "Epoch 175/200\n",
            "15/15 [==============================] - 0s 6ms/step - loss: 0.3263 - accuracy: 0.9062 - val_loss: 0.3472 - val_accuracy: 0.9038\n",
            "Epoch 176/200\n",
            "15/15 [==============================] - 0s 5ms/step - loss: 0.3251 - accuracy: 0.9056 - val_loss: 0.3461 - val_accuracy: 0.9087\n",
            "Epoch 177/200\n",
            "15/15 [==============================] - 0s 6ms/step - loss: 0.3240 - accuracy: 0.9072 - val_loss: 0.3448 - val_accuracy: 0.9050\n",
            "Epoch 178/200\n",
            "15/15 [==============================] - 0s 9ms/step - loss: 0.3227 - accuracy: 0.9056 - val_loss: 0.3433 - val_accuracy: 0.9050\n",
            "Epoch 179/200\n",
            "15/15 [==============================] - 0s 6ms/step - loss: 0.3215 - accuracy: 0.9051 - val_loss: 0.3423 - val_accuracy: 0.9075\n",
            "Epoch 180/200\n",
            "15/15 [==============================] - 0s 5ms/step - loss: 0.3204 - accuracy: 0.9051 - val_loss: 0.3416 - val_accuracy: 0.9075\n",
            "Epoch 181/200\n",
            "15/15 [==============================] - 0s 5ms/step - loss: 0.3195 - accuracy: 0.9072 - val_loss: 0.3404 - val_accuracy: 0.9087\n",
            "Epoch 182/200\n",
            "15/15 [==============================] - 0s 5ms/step - loss: 0.3183 - accuracy: 0.9072 - val_loss: 0.3395 - val_accuracy: 0.9075\n",
            "Epoch 183/200\n",
            "15/15 [==============================] - 0s 5ms/step - loss: 0.3174 - accuracy: 0.9067 - val_loss: 0.3389 - val_accuracy: 0.9075\n",
            "Epoch 184/200\n",
            "15/15 [==============================] - 0s 6ms/step - loss: 0.3163 - accuracy: 0.9062 - val_loss: 0.3375 - val_accuracy: 0.9087\n",
            "Epoch 185/200\n",
            "15/15 [==============================] - 0s 6ms/step - loss: 0.3153 - accuracy: 0.9056 - val_loss: 0.3362 - val_accuracy: 0.9087\n",
            "Epoch 186/200\n",
            "15/15 [==============================] - 0s 6ms/step - loss: 0.3141 - accuracy: 0.9067 - val_loss: 0.3352 - val_accuracy: 0.9087\n",
            "Epoch 187/200\n",
            "15/15 [==============================] - 0s 5ms/step - loss: 0.3135 - accuracy: 0.9056 - val_loss: 0.3339 - val_accuracy: 0.9112\n",
            "Epoch 188/200\n",
            "15/15 [==============================] - 0s 5ms/step - loss: 0.3120 - accuracy: 0.9072 - val_loss: 0.3341 - val_accuracy: 0.9075\n",
            "Epoch 189/200\n",
            "15/15 [==============================] - 0s 7ms/step - loss: 0.3114 - accuracy: 0.9072 - val_loss: 0.3329 - val_accuracy: 0.9087\n",
            "Epoch 190/200\n",
            "15/15 [==============================] - 0s 7ms/step - loss: 0.3102 - accuracy: 0.9067 - val_loss: 0.3315 - val_accuracy: 0.9100\n",
            "Epoch 191/200\n",
            "15/15 [==============================] - 0s 6ms/step - loss: 0.3089 - accuracy: 0.9067 - val_loss: 0.3302 - val_accuracy: 0.9087\n",
            "Epoch 192/200\n",
            "15/15 [==============================] - 0s 6ms/step - loss: 0.3085 - accuracy: 0.9062 - val_loss: 0.3298 - val_accuracy: 0.9100\n",
            "Epoch 193/200\n",
            "15/15 [==============================] - 0s 5ms/step - loss: 0.3074 - accuracy: 0.9083 - val_loss: 0.3283 - val_accuracy: 0.9112\n",
            "Epoch 194/200\n",
            "15/15 [==============================] - 0s 6ms/step - loss: 0.3065 - accuracy: 0.9088 - val_loss: 0.3283 - val_accuracy: 0.9100\n",
            "Epoch 195/200\n",
            "15/15 [==============================] - 0s 6ms/step - loss: 0.3054 - accuracy: 0.9088 - val_loss: 0.3263 - val_accuracy: 0.9112\n",
            "Epoch 196/200\n",
            "15/15 [==============================] - 0s 7ms/step - loss: 0.3046 - accuracy: 0.9088 - val_loss: 0.3265 - val_accuracy: 0.9100\n",
            "Epoch 197/200\n",
            "15/15 [==============================] - 0s 5ms/step - loss: 0.3036 - accuracy: 0.9072 - val_loss: 0.3251 - val_accuracy: 0.9112\n",
            "Epoch 198/200\n",
            "15/15 [==============================] - 0s 6ms/step - loss: 0.3029 - accuracy: 0.9078 - val_loss: 0.3239 - val_accuracy: 0.9137\n",
            "Epoch 199/200\n",
            "15/15 [==============================] - 0s 6ms/step - loss: 0.3015 - accuracy: 0.9083 - val_loss: 0.3235 - val_accuracy: 0.9125\n",
            "Epoch 200/200\n",
            "15/15 [==============================] - 0s 5ms/step - loss: 0.3007 - accuracy: 0.9078 - val_loss: 0.3228 - val_accuracy: 0.9112\n"
          ]
        },
        {
          "output_type": "execute_result",
          "data": {
            "text/plain": [
              "<keras.callbacks.History at 0x7f89b045dcd0>"
            ]
          },
          "metadata": {},
          "execution_count": 30
        }
      ]
    },
    {
      "cell_type": "code",
      "metadata": {
        "colab": {
          "base_uri": "https://localhost:8080/"
        },
        "id": "pDFcAkh194-Y",
        "outputId": "ada80560-7996-489f-d718-aae17364a245"
      },
      "source": [
        "test_loss, NNScore = model.evaluate(x_test,y_test)\n",
        "print(\"Accuracy obtained by Neural Network model :\", NNScore*100)"
      ],
      "execution_count": 31,
      "outputs": [
        {
          "output_type": "stream",
          "name": "stdout",
          "text": [
            "25/25 [==============================] - 0s 3ms/step - loss: 0.3228 - accuracy: 0.9112\n",
            "Accuracy obtained by Neural Network model : 91.12499952316284\n"
          ]
        }
      ]
    },
    {
      "cell_type": "code",
      "metadata": {
        "id": "F1aXpCKW-BI8"
      },
      "source": [
        "def predict(model,x):\n",
        "    pred = model.predict(x)\n",
        "    pred_test = np.array([np.argmax(pred[i]) for i in range(len(pred))])\n",
        "    return pred_test\n",
        "\n",
        "def plot_actual_vs_predicted(y_true,y_pred):\n",
        "    print(\"Classification Report\")\n",
        "    print(classification_report(y_true,y_pred))"
      ],
      "execution_count": 32,
      "outputs": []
    },
    {
      "cell_type": "code",
      "metadata": {
        "colab": {
          "base_uri": "https://localhost:8080/"
        },
        "id": "7GHKFDMY-MQ8",
        "outputId": "69f05bf8-82af-4dba-e188-50a27151f6f6"
      },
      "source": [
        "y_test_pred = predict(model,x_test)\n",
        "plot_actual_vs_predicted(y_test,y_test_pred)"
      ],
      "execution_count": 33,
      "outputs": [
        {
          "output_type": "stream",
          "name": "stdout",
          "text": [
            "Classification Report\n",
            "              precision    recall  f1-score   support\n",
            "\n",
            "           0       0.92      0.92      0.92       162\n",
            "           1       1.00      1.00      1.00       154\n",
            "           2       0.84      0.84      0.84       157\n",
            "           3       0.85      0.88      0.87       164\n",
            "           4       0.96      0.91      0.93       163\n",
            "\n",
            "    accuracy                           0.91       800\n",
            "   macro avg       0.91      0.91      0.91       800\n",
            "weighted avg       0.91      0.91      0.91       800\n",
            "\n"
          ]
        }
      ]
    },
    {
      "cell_type": "markdown",
      "metadata": {
        "id": "hzKDv_hZJEB3"
      },
      "source": [
        "# **VII. Models comparison**"
      ]
    },
    {
      "cell_type": "code",
      "metadata": {
        "colab": {
          "base_uri": "https://localhost:8080/",
          "height": 596
        },
        "id": "MoVH1E987lYD",
        "outputId": "82b8d4c7-bd96-4e67-af94-31edd46352ce"
      },
      "source": [
        "plt.style.use(\"seaborn\")\n",
        "\n",
        "x = [\"Logistic Regression\", \n",
        "     \"Support Vector Machine\",\n",
        "     \"Decision Tree Classifier\", \n",
        "     \"RandomForestClassifier\", \n",
        "     \"KNeighborsClassifier\", \n",
        "     \"GaussianNB\",\n",
        "     \"Neural Network Model\"\n",
        "     ]\n",
        "\n",
        "y = [LogisticRegressionScore, \n",
        "     SVMScore,\n",
        "     DecisionTreeClassifierScore, \n",
        "     RandomForestClassifierScore, \n",
        "     KNeighborsClassifierScore, \n",
        "     GaussianNBScore,\n",
        "     NNScore\n",
        "    ]\n",
        "\n",
        "fig, ax = plt.subplots(figsize=(10,8))\n",
        "sns.barplot(x=x,y=y, palette=\"crest\");\n",
        "plt.ylabel(\"Model Accuracy\")\n",
        "plt.xticks(rotation=40)\n",
        "plt.title(\"Model Comparison - Model Accuracy\", fontsize=14, fontname=\"Helvetica\", y=1.03);"
      ],
      "execution_count": 34,
      "outputs": [
        {
          "output_type": "stream",
          "name": "stderr",
          "text": [
            "findfont: Font family ['Helvetica'] not found. Falling back to DejaVu Sans.\n"
          ]
        },
        {
          "output_type": "display_data",
          "data": {
            "image/png": "[encoded data removed]",
            "text/plain": [
              "<Figure size 720x576 with 1 Axes>"
            ]
          },
          "metadata": {}
        }
      ]
    },
    {
      "cell_type": "markdown",
      "metadata": {
        "id": "EiWT3yQcJIXS"
      },
      "source": [
        "Among the models, Random Forest classifier gave a better accuracy of 99.75"
      ]
    }
  ]
}